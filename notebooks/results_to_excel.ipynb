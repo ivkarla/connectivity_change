{
  "cells": [
    {
      "cell_type": "markdown",
      "metadata": {
        "colab_type": "text",
        "id": "view-in-github"
      },
      "source": [
        "<a href=\"https://colab.research.google.com/github/ivkarla/connectivity_change/blob/main/notebooks/results_to_excel.ipynb\" target=\"_parent\"><img src=\"https://colab.research.google.com/assets/colab-badge.svg\" alt=\"Open In Colab\"/></a>"
      ]
    },
    {
      "cell_type": "markdown",
      "metadata": {
        "id": "3C_AYekp9y2z"
      },
      "source": [
        "Group results for all time frames to an Excel file with columns: subject, method, time frame, EN, hit, score1, network size\n"
      ]
    },
    {
      "cell_type": "code",
      "execution_count": null,
      "metadata": {
        "id": "NP98EDhA8Gk8"
      },
      "outputs": [],
      "source": [
        "import pandas as pd\n",
        "import csv\n",
        "from pickle import load\n",
        "\n",
        "from google.colab import drive\n",
        "drive.mount('/content/gdrive')\n",
        "main_folder = \"/content/gdrive/Shared drives/A&K/data/\"\n",
        "\n",
        "frames = [\"NS_fixed27\", \"NN\", \"N60S\", \"NS\", \"NE\"]\n",
        "\n",
        "\n",
        "submeta = pd.read_excel(main_folder + 'subsmeta.xlsx')\n",
        "subjects = list(submeta[\"sub\"])\n",
        "inres = load(open(main_folder + \"inres_channels.pickle\", \"rb\"))\n",
        "\n",
        "nnodes,outcome={},{}\n",
        "for si,s in enumerate(list(submeta[\"sub\"])): nnodes[s],outcome[s]=list(submeta[\"n_channels_EDF\"])[si],list(submeta[\"outcome\"])[si]\n",
        "\n",
        "S,M,EN,H,S1,L,F,O = [],[],[],[],[],[],[],[]\n",
        "inres[\"MGM\"] = ['F1', 'F2', 'F3', 'F4', 'F6', 'F7', 'F8', 'F12', 'F13', 'A8', 'O1', 'O2', 'O3', 'T5']\n",
        "\n",
        "for frame in frames:\n",
        "    if frame==\"N60S\": ext=\"ns\"\n",
        "    else: ext=frame.split('_')[0].lower()\n",
        "    for sub in subjects:\n",
        "        net_path = main_folder + 'reality_check/{}/nodes/'.format(frame)\n",
        "        file = '{}-{}.csv'.format(sub,ext)\n",
        "        r = pd.read_csv(net_path+file, header=None)\n",
        "        with open(net_path+file, 'r') as csvfile:\n",
        "                datareader = csv.reader(csvfile)\n",
        "                for row in datareader:\n",
        "                    if row!=[]:\n",
        "                        met = row[0]\n",
        "\n",
        "                        en = row[1].replace(\" \",\"\")[1:-1].split(\",\")\n",
        "                        l = len(en)\n",
        "                        els0 = list(el for elt in [ch[1:-1].split(\"-\") for ch in en] for el in elt)\n",
        "                        els = list(dict.fromkeys(els0))\n",
        "                        hit = len(list(set(els) & set(inres[sub])))\n",
        "                        score1 = hit/len(els) if len(els)>0 else 0\n",
        "\n",
        "                        S.append(sub)\n",
        "                        M.append(met)\n",
        "                        EN.append(en)\n",
        "                        H.append(hit)\n",
        "                        S1.append(score1)\n",
        "                        L.append(l)\n",
        "                        F.append(frame)\n",
        "                        O.append(outcome[sub])\n",
        "\n",
        "                        # print(sub, met, hit, row[1], en, l)\n",
        "\n",
        "info = pd.DataFrame({\"subject\":S, \"outcome\":O, \"method\":M, \"time_frame\":F, \"EN\":EN, \"EN_size\":L, \"resection_hit\":H, \"score1\":S1})\n",
        "info.to_excel(main_folder + \"results.xlsx\")\n"
      ]
    },
    {
      "cell_type": "code",
      "execution_count": null,
      "metadata": {
        "id": "3FJnMZGP-Ota"
      },
      "outputs": [],
      "source": []
    }
  ],
  "metadata": {
    "colab": {
      "authorship_tag": "ABX9TyOgi9v0/LDucmbFA7NkAxM7",
      "include_colab_link": true,
      "provenance": []
    },
    "kernelspec": {
      "display_name": "Python 3",
      "name": "python3"
    },
    "language_info": {
      "name": "python"
    }
  },
  "nbformat": 4,
  "nbformat_minor": 0
}
