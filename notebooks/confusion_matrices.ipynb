{
  "nbformat": 4,
  "nbformat_minor": 0,
  "metadata": {
    "colab": {
      "provenance": [],
      "authorship_tag": "ABX9TyNJi2NxArsVgAYRipzU064B",
      "include_colab_link": true
    },
    "kernelspec": {
      "name": "python3",
      "display_name": "Python 3"
    },
    "language_info": {
      "name": "python"
    }
  },
  "cells": [
    {
      "cell_type": "markdown",
      "metadata": {
        "id": "view-in-github",
        "colab_type": "text"
      },
      "source": [
        "<a href=\"https://colab.research.google.com/github/ivkarla/connectivity_change_reproducible/blob/main/notebooks/confusion_matrices.ipynb\" target=\"_parent\"><img src=\"https://colab.research.google.com/assets/colab-badge.svg\" alt=\"Open In Colab\"/></a>"
      ]
    },
    {
      "cell_type": "code",
      "execution_count": 18,
      "metadata": {
        "colab": {
          "base_uri": "https://localhost:8080/",
          "height": 457
        },
        "id": "r89EPgChH01e",
        "outputId": "8b50a4d9-c6d4-4bf3-f64c-6acad5a5cfeb"
      },
      "outputs": [
        {
          "output_type": "display_data",
          "data": {
            "text/plain": [
              "<Figure size 300x200 with 2 Axes>"
            ],
            "image/png": "[encoded data removed]"
          },
          "metadata": {}
        },
        {
          "output_type": "stream",
          "name": "stdout",
          "text": [
            "Optimal threshold: 0.02\n",
            "Best F1 score: 0.90\n",
            "Misclassified Good keys: []\n",
            "Misclassified Poor keys: [9, 16, 17]\n"
          ]
        }
      ],
      "source": [
        "import pandas as pd\n",
        "import numpy as np\n",
        "from sklearn.metrics import confusion_matrix, accuracy_score, precision_score, recall_score, f1_score\n",
        "import matplotlib.pyplot as plt\n",
        "import seaborn as sns\n",
        "\n",
        "# Define the scores\n",
        "# woi = \"Non-seizure\"\n",
        "# good_scores = {\n",
        "#     0: 0.222222, 1: 0.488126, 3: 0.237500, 4: 0.202778, 6: 0.743750, 7: 0.105208, 8: 0.355208,\n",
        "#     12: 0.591122, 13: 0.039474, 14: 0.184659, 15: 0.128045, 18: 0.475000, 19: 0.125000, 20: 0.142361\n",
        "# }\n",
        "\n",
        "# poor_scores = {\n",
        "#     2: 0.071338, 5: 0.076923, 9: 0.091912, 10: 0.190909, 11: 0.000000, 16: 0.087037, 17: 0.120942\n",
        "# }\n",
        "\n",
        "# woi = \"Pre-seizure\"\n",
        "# good_scores = {\n",
        "#     0: 0.150000, 1: 0.575641, 3: 0.250242, 4: 0.193030, 6: 0.700768, 7: 0.173684, 8: 0.319444,\n",
        "#     12: 0.421591, 13: 0.000000, 14: 0.175714, 15: 0.176111, 18: 0.563736, 19: 0.014815, 20: 0.338333\n",
        "# }\n",
        "\n",
        "# poor_scores = {\n",
        "#     2: 0.111905, 5: 0.050000, 9: 0.070563, 10: 0.143182, 11: 0.000000, 16: 0.161828, 17: 0.141071\n",
        "# }\n",
        "\n",
        "# woi = \"Transition\"\n",
        "# good_scores = {\n",
        "#     0: 0.108553, 1: 0.700000, 3: 0.273339, 4: 0.151786, 6: 0.683658, 7: 0.120833, 8: 0.326563,\n",
        "#     12: 0.256250, 13: 0.000000, 14: 0.062500, 15: 0.130919, 18: 0.491880, 19: 0.183578, 20: 0.203788\n",
        "# }\n",
        "\n",
        "# poor_scores = {\n",
        "#     2: 0.098214, 5: 0.000000, 9: 0.032609, 10: 0.090774, 11: 0.036458, 16: 0.043155, 17: 0.106534\n",
        "# }\n",
        "\n",
        "woi = \"Seizure\"\n",
        "good_scores = {\n",
        "    0: 0.022222, 1: 0.303571, 3: 0.274411, 4: 0.047619, 6: 0.269231, 7: 0.271958, 8: 0.274411,\n",
        "    12: 0.343434, 13: 0.051282, 14: 0.109408, 15: 0.091954, 18: 0.430406, 19: 0.106091, 20: 0.236753\n",
        "}\n",
        "\n",
        "poor_scores = {\n",
        "    2: 0.021739, 5: 0.000000, 9: 0.121338, 10: 0.019608, 11: 0.000000, 16: 0.107527, 17: 0.230159\n",
        "}\n",
        "\n",
        "# Combine scores into a single DataFrame\n",
        "all_scores = {**good_scores, **poor_scores}\n",
        "labels = {k: 'good' for k in good_scores}\n",
        "labels.update({k: 'poor' for k in poor_scores})\n",
        "\n",
        "df = pd.DataFrame(list(all_scores.items()), columns=['index', 'score'])\n",
        "df['label'] = df['index'].map(labels)\n",
        "df['label'] = df['label'].map({'good': 1, 'poor': 0})\n",
        "\n",
        "# Find the optimal threshold\n",
        "thresholds = np.linspace(0, 1, 1000)\n",
        "best_threshold = 0\n",
        "best_f1 = 0\n",
        "\n",
        "for threshold in thresholds:\n",
        "    df['pred'] = (df['score'] >= threshold).astype(int)\n",
        "    f1 = f1_score(df['label'], df['pred'])\n",
        "    if f1 > best_f1:\n",
        "        best_f1 = f1\n",
        "        best_threshold = threshold\n",
        "\n",
        "# Compute the confusion matrix\n",
        "df['pred'] = (df['score'] >= best_threshold).astype(int)\n",
        "cm = confusion_matrix(df['label'], df['pred'])\n",
        "\n",
        "# Visualize the confusion matrix\n",
        "plt.figure(figsize=(3,2))\n",
        "sns.heatmap(cm, annot=True, fmt='d', cmap='Blues', xticklabels=['Poor Outcome', 'Good Outcome'], yticklabels=['Poor Outcome', 'Good Outcome'])\n",
        "plt.xlabel('Predicted')\n",
        "plt.ylabel('Actual')\n",
        "plt.title(f'{woi}\\nConfusion Matrix\\n(Threshold = {best_threshold:.2f})')\n",
        "plt.show()\n",
        "\n",
        "# Print the best threshold and associated F1 score\n",
        "print(f'Optimal threshold: {best_threshold:.2f}')\n",
        "print(f'Best F1 score: {best_f1:.2f}')\n",
        "\n",
        "# Find misclassified keys\n",
        "misclassified_good = df[(df['label'] == 1) & (df['pred'] == 0)]['index'].tolist()\n",
        "misclassified_poor = df[(df['label'] == 0) & (df['pred'] == 1)]['index'].tolist()\n",
        "\n",
        "# Print misclassified keys\n",
        "print(f'Misclassified Good keys: {misclassified_good}')\n",
        "print(f'Misclassified Poor keys: {misclassified_poor}')\n"
      ]
    },
    {
      "cell_type": "code",
      "source": [],
      "metadata": {
        "id": "At_iOG_BH_ih"
      },
      "execution_count": null,
      "outputs": []
    }
  ]
}